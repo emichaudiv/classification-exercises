{
 "cells": [
  {
   "cell_type": "code",
   "execution_count": 2,
   "id": "7c277945",
   "metadata": {},
   "outputs": [],
   "source": [
    "from pydataset import data\n",
    "import pandas as pd\n",
    "import os\n",
    "import warnings\n",
    "import matplotlib.pyplot as plt\n",
    "warnings.filterwarnings(\"ignore\")\n",
    "from env import user, host,password\n",
    "def get_connection(schema,\n",
    "                   user=user,\n",
    "                   host=host,\n",
    "                   password=password):\n",
    "    return f'mysql+pymysql://{user}:{password}@{host}/{schema}'"
   ]
  },
  {
   "cell_type": "code",
   "execution_count": 4,
   "id": "79018df6",
   "metadata": {},
   "outputs": [],
   "source": [
    "from sklearn.model_selection import train_test_split\n",
    "from sklearn.tree import DecisionTreeClassifier, plot_tree, export_text\n",
    "from sklearn.metrics import classification_report\n",
    "from sklearn.metrics import confusion_matrix\n",
    "from sklearn.metrics import accuracy_score\n",
    "import seaborn as sns\n",
    "warnings.filterwarnings('ignore')\n",
    "from sklearn.ensemble import RandomForestClassifier"
   ]
  },
  {
   "cell_type": "code",
   "execution_count": null,
   "id": "1dacae7d",
   "metadata": {},
   "outputs": [],
   "source": [
    "sheet_url = 'https://docs.google.com/spreadsheets/d/1Uhtml8KY19LILuZsrDtlsHHDC9wuDGUSe8LTEwvdI5g/edit#gid=341089357'\n",
    "csv_export_url = sheet_url.replace('/edit#gid=', '/export?format=csv&gid=')\n",
    "titanic = pd.read_csv(csv_export_url)\n",
    "titanic.head()"
   ]
  },
  {
   "cell_type": "code",
   "execution_count": null,
   "id": "becc7871",
   "metadata": {},
   "outputs": [],
   "source": [
    "rf=RandomForestClassifier(min_samples_leaf=1,max_depth=10,\n",
    "                         randomstate=1349)\n",
    "rf.fit(X_train,y_train)\n",
    "rf_0_preds=rf.predict(X_train)\n",
    "rf_score(X_val,y_val)\n",
    "corf_rf=confusion_matrix(y_train,rf_0_preds)\n",
    "rubric+"
   ]
  },
  {
   "cell_type": "code",
   "execution_count": null,
   "id": "cca546ba",
   "metadata": {},
   "outputs": [],
   "source": [
    "TN,TP,FP,TP =conf"
   ]
  },
  {
   "cell_type": "code",
   "execution_count": null,
   "id": "025c36fa",
   "metadata": {},
   "outputs": [],
   "source": [
    "#Do it with a loop"
   ]
  },
  {
   "cell_type": "code",
   "execution_count": null,
   "id": "a3668250",
   "metadata": {},
   "outputs": [],
   "source": [
    "model_dict={}\n",
    "for i in zip(range(1,10),\n",
    "             range(10,1-1):\n",
    "    clf =RandomForestClassifier(min_samples_leaf=i[0],max_depth=i[1])\n",
    "    clf.fit(Xtrain,y_train)\n",
    "    model_dict[f'dt_depth_{i}']={}\n",
    "    model_dict[f'dt_depth_{i}']['model']=clf\n",
    "    model_dict[f'dt_depth_{i}']['train_score']= clf.score(Xtrain,y_train)\n",
    "    model_dict[f'dt_depth_{i}']['val_diff']= clf.scoreclf.score(X_val,y_val)\n",
    "    "
   ]
  },
  {
   "cell_type": "code",
   "execution_count": null,
   "id": "5434ca35",
   "metadata": {},
   "outputs": [],
   "source": [
    "max=0\n",
    "for model in model_dict:\n",
    "    (model>max)\n",
    "    (model_dict.model['val_score'])"
   ]
  },
  {
   "cell_type": "code",
   "execution_count": null,
   "id": "20afd813",
   "metadata": {},
   "outputs": [],
   "source": [
    "dt = DecisionTreeClassifier()\n",
    "dt.fit(X_train,y_train)\n",
    "preds = dt.predict(X_train)"
   ]
  },
  {
   "cell_type": "code",
   "execution_count": null,
   "id": "40bb53d3",
   "metadata": {},
   "outputs": [],
   "source": [
    "model_dict.keys()\n",
    "model_dict['rf_2']\n",
    "#model 2"
   ]
  },
  {
   "cell_type": "code",
   "execution_count": null,
   "id": "feb29f84",
   "metadata": {},
   "outputs": [],
   "source": [
    "test_preds=rf_model_dict['rf_2']['model'].predict(test[X_cols])\n",
    "test_score=rf_model_dict['rf_2']['model'].score(test[X_cols],test[y_col])"
   ]
  }
 ],
 "metadata": {
  "kernelspec": {
   "display_name": "Python 3 (ipykernel)",
   "language": "python",
   "name": "python3"
  },
  "language_info": {
   "codemirror_mode": {
    "name": "ipython",
    "version": 3
   },
   "file_extension": ".py",
   "mimetype": "text/x-python",
   "name": "python",
   "nbconvert_exporter": "python",
   "pygments_lexer": "ipython3",
   "version": "3.9.13"
  }
 },
 "nbformat": 4,
 "nbformat_minor": 5
}
