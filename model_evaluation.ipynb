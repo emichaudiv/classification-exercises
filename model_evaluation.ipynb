{
 "cells": [
  {
   "cell_type": "code",
   "execution_count": 14,
   "id": "d3cde217",
   "metadata": {},
   "outputs": [],
   "source": [
    "from pydataset import data\n",
    "import pandas as pd\n",
    "import os\n",
    "import warnings\n",
    "import csv\n",
    "import matplotlib.pyplot as plt\n",
    "from env import user, host,password\n",
    "def get_connection(schema,\n",
    "                   user=user,\n",
    "                   host=host,\n",
    "                   password=password):\n",
    "    return f'mysql+pymysql://{user}:{password}@{host}/{schema}'"
   ]
  },
  {
   "cell_type": "code",
   "execution_count": 2,
   "id": "61e1e031",
   "metadata": {},
   "outputs": [
    {
     "ename": "SyntaxError",
     "evalue": "invalid syntax (663399424.py, line 1)",
     "output_type": "error",
     "traceback": [
      "\u001b[0;36m  Input \u001b[0;32mIn [2]\u001b[0;36m\u001b[0m\n\u001b[0;31m    |               | pred dog   | pred cat   |\u001b[0m\n\u001b[0m    ^\u001b[0m\n\u001b[0;31mSyntaxError\u001b[0m\u001b[0;31m:\u001b[0m invalid syntax\n"
     ]
    }
   ],
   "source": [
    "|               | pred dog   | pred cat   |\n",
    "|:------------  |-----------:|-----------:|\n",
    "| actual dog    |         46 |         7  |\n",
    "| actual cat    |         13 |         34 |\n"
   ]
  },
  {
   "cell_type": "code",
   "execution_count": 49,
   "id": "68982ece",
   "metadata": {},
   "outputs": [],
   "source": [
    "tp=46\n",
    "tn=34\n",
    "fp=13\n",
    "fn=7"
   ]
  },
  {
   "cell_type": "code",
   "execution_count": 50,
   "id": "545cfcc0",
   "metadata": {},
   "outputs": [
    {
     "name": "stdout",
     "output_type": "stream",
     "text": [
      "Accuracy rate is 0.8\n"
     ]
    }
   ],
   "source": [
    "accuracy_rate=(tp+tn)/(tp+tn+fp+fn)\n",
    "print(f'Accuracy rate is {accuracy_rate}')"
   ]
  },
  {
   "cell_type": "code",
   "execution_count": 51,
   "id": "7fc05980",
   "metadata": {},
   "outputs": [
    {
     "name": "stdout",
     "output_type": "stream",
     "text": [
      "Recall rate is 0.8679245283018868\n"
     ]
    }
   ],
   "source": [
    "recall_rate=(tp)/(tp+fn)\n",
    "print(f'Recall rate is {recall_rate}')"
   ]
  },
  {
   "cell_type": "code",
   "execution_count": 52,
   "id": "b7563a20",
   "metadata": {},
   "outputs": [
    {
     "name": "stdout",
     "output_type": "stream",
     "text": [
      "Precission rate is 0.7796610169491526\n"
     ]
    }
   ],
   "source": [
    "precission_rate=(tp)/(tp+fp)\n",
    "print(f'Precission rate is {precission_rate}')"
   ]
  },
  {
   "cell_type": "markdown",
   "id": "f5188662",
   "metadata": {},
   "source": [
    "False positive is the actual cat, pred cat\n",
    "False negative is the actual dog, pred dog"
   ]
  },
  {
   "cell_type": "code",
   "execution_count": 23,
   "id": "cede3f49",
   "metadata": {
    "scrolled": false
   },
   "outputs": [
    {
     "data": {
      "text/html": [
       "<div>\n",
       "<style scoped>\n",
       "    .dataframe tbody tr th:only-of-type {\n",
       "        vertical-align: middle;\n",
       "    }\n",
       "\n",
       "    .dataframe tbody tr th {\n",
       "        vertical-align: top;\n",
       "    }\n",
       "\n",
       "    .dataframe thead th {\n",
       "        text-align: right;\n",
       "    }\n",
       "</style>\n",
       "<table border=\"1\" class=\"dataframe\">\n",
       "  <thead>\n",
       "    <tr style=\"text-align: right;\">\n",
       "      <th></th>\n",
       "      <th>actual</th>\n",
       "      <th>model1</th>\n",
       "      <th>model2</th>\n",
       "      <th>model3</th>\n",
       "    </tr>\n",
       "  </thead>\n",
       "  <tbody>\n",
       "    <tr>\n",
       "      <th>0</th>\n",
       "      <td>No Defect</td>\n",
       "      <td>No Defect</td>\n",
       "      <td>Defect</td>\n",
       "      <td>No Defect</td>\n",
       "    </tr>\n",
       "    <tr>\n",
       "      <th>1</th>\n",
       "      <td>No Defect</td>\n",
       "      <td>No Defect</td>\n",
       "      <td>Defect</td>\n",
       "      <td>Defect</td>\n",
       "    </tr>\n",
       "    <tr>\n",
       "      <th>2</th>\n",
       "      <td>No Defect</td>\n",
       "      <td>No Defect</td>\n",
       "      <td>Defect</td>\n",
       "      <td>No Defect</td>\n",
       "    </tr>\n",
       "    <tr>\n",
       "      <th>3</th>\n",
       "      <td>No Defect</td>\n",
       "      <td>Defect</td>\n",
       "      <td>Defect</td>\n",
       "      <td>Defect</td>\n",
       "    </tr>\n",
       "    <tr>\n",
       "      <th>4</th>\n",
       "      <td>No Defect</td>\n",
       "      <td>No Defect</td>\n",
       "      <td>Defect</td>\n",
       "      <td>No Defect</td>\n",
       "    </tr>\n",
       "    <tr>\n",
       "      <th>...</th>\n",
       "      <td>...</td>\n",
       "      <td>...</td>\n",
       "      <td>...</td>\n",
       "      <td>...</td>\n",
       "    </tr>\n",
       "    <tr>\n",
       "      <th>195</th>\n",
       "      <td>No Defect</td>\n",
       "      <td>No Defect</td>\n",
       "      <td>Defect</td>\n",
       "      <td>Defect</td>\n",
       "    </tr>\n",
       "    <tr>\n",
       "      <th>196</th>\n",
       "      <td>Defect</td>\n",
       "      <td>Defect</td>\n",
       "      <td>No Defect</td>\n",
       "      <td>No Defect</td>\n",
       "    </tr>\n",
       "    <tr>\n",
       "      <th>197</th>\n",
       "      <td>No Defect</td>\n",
       "      <td>No Defect</td>\n",
       "      <td>No Defect</td>\n",
       "      <td>No Defect</td>\n",
       "    </tr>\n",
       "    <tr>\n",
       "      <th>198</th>\n",
       "      <td>No Defect</td>\n",
       "      <td>No Defect</td>\n",
       "      <td>Defect</td>\n",
       "      <td>Defect</td>\n",
       "    </tr>\n",
       "    <tr>\n",
       "      <th>199</th>\n",
       "      <td>No Defect</td>\n",
       "      <td>No Defect</td>\n",
       "      <td>No Defect</td>\n",
       "      <td>Defect</td>\n",
       "    </tr>\n",
       "  </tbody>\n",
       "</table>\n",
       "<p>200 rows × 4 columns</p>\n",
       "</div>"
      ],
      "text/plain": [
       "        actual     model1     model2     model3\n",
       "0    No Defect  No Defect     Defect  No Defect\n",
       "1    No Defect  No Defect     Defect     Defect\n",
       "2    No Defect  No Defect     Defect  No Defect\n",
       "3    No Defect     Defect     Defect     Defect\n",
       "4    No Defect  No Defect     Defect  No Defect\n",
       "..         ...        ...        ...        ...\n",
       "195  No Defect  No Defect     Defect     Defect\n",
       "196     Defect     Defect  No Defect  No Defect\n",
       "197  No Defect  No Defect  No Defect  No Defect\n",
       "198  No Defect  No Defect     Defect     Defect\n",
       "199  No Defect  No Defect  No Defect     Defect\n",
       "\n",
       "[200 rows x 4 columns]"
      ]
     },
     "execution_count": 23,
     "metadata": {},
     "output_type": "execute_result"
    }
   ],
   "source": [
    "df = pd.read_csv('c3.csv')\n",
    "\n",
    "df"
   ]
  },
  {
   "cell_type": "code",
   "execution_count": null,
   "id": "9a763e86",
   "metadata": {},
   "outputs": [],
   "source": []
  },
  {
   "cell_type": "code",
   "execution_count": 56,
   "id": "9d34ce8c",
   "metadata": {},
   "outputs": [
    {
     "name": "stdout",
     "output_type": "stream",
     "text": [
      "Model 1 Recall:0.5\n"
     ]
    }
   ],
   "source": [
    "dap = df[df.actual == 'Defect']\n",
    "model1=(dap.model1==dap.actual).mean()\n",
    "print(f'Model 1 Recall:{model1}')"
   ]
  },
  {
   "cell_type": "code",
   "execution_count": 57,
   "id": "5da56424",
   "metadata": {},
   "outputs": [
    {
     "name": "stdout",
     "output_type": "stream",
     "text": [
      "Model 2 Recall:0.5625\n"
     ]
    }
   ],
   "source": [
    "dap = df[df.actual == 'Defect']\n",
    "model2=(dap.model2==dap.actual).mean()\n",
    "print(f'Model 2 Recall:{model2}')"
   ]
  },
  {
   "cell_type": "code",
   "execution_count": 58,
   "id": "cae8dbb2",
   "metadata": {},
   "outputs": [
    {
     "name": "stdout",
     "output_type": "stream",
     "text": [
      "Model 3 Recall:0.8125\n"
     ]
    }
   ],
   "source": [
    "dap = df[df.actual == 'Defect']\n",
    "model3=(dap.model3==dap.actual).mean()\n",
    "print(f'Model 3 Recall:{model3}')"
   ]
  },
  {
   "cell_type": "code",
   "execution_count": 59,
   "id": "2311ba21",
   "metadata": {
    "scrolled": true
   },
   "outputs": [
    {
     "data": {
      "text/plain": [
       "0.8"
      ]
     },
     "execution_count": 59,
     "metadata": {},
     "output_type": "execute_result"
    }
   ],
   "source": [
    "pp1=df[df.model1=='Defect']\n",
    "md1p=(pp1.actual==pp1.model1).mean()\n",
    "md1p"
   ]
  },
  {
   "cell_type": "code",
   "execution_count": 61,
   "id": "30a0da4b",
   "metadata": {},
   "outputs": [
    {
     "data": {
      "text/plain": [
       "0.1"
      ]
     },
     "execution_count": 61,
     "metadata": {},
     "output_type": "execute_result"
    }
   ],
   "source": [
    "pp2=df[df.model2=='Defect']\n",
    "md2p=(pp2.actual==pp2.model2).mean()\n",
    "md2p"
   ]
  },
  {
   "cell_type": "code",
   "execution_count": 62,
   "id": "8f389608",
   "metadata": {},
   "outputs": [
    {
     "data": {
      "text/plain": [
       "0.13131313131313133"
      ]
     },
     "execution_count": 62,
     "metadata": {},
     "output_type": "execute_result"
    }
   ],
   "source": [
    "pp3=df[df.model3=='Defect']\n",
    "md3p=(pp3.actual==pp3.model3).mean()\n",
    "md3p"
   ]
  },
  {
   "cell_type": "markdown",
   "id": "3a7397fe",
   "metadata": {},
   "source": [
    "Model 3 would be the best model to follow because it is thoughough enough to find the defects"
   ]
  },
  {
   "cell_type": "markdown",
   "id": "dd425f81",
   "metadata": {},
   "source": [
    "Model 1 would be better to follow beacuse it has less defects"
   ]
  },
  {
   "cell_type": "code",
   "execution_count": 38,
   "id": "cfc754d2",
   "metadata": {},
   "outputs": [],
   "source": [
    "paw = pd.read_csv('gives_you_paws.csv')"
   ]
  },
  {
   "cell_type": "code",
   "execution_count": 39,
   "id": "f3055e8d",
   "metadata": {},
   "outputs": [
    {
     "data": {
      "text/html": [
       "<div>\n",
       "<style scoped>\n",
       "    .dataframe tbody tr th:only-of-type {\n",
       "        vertical-align: middle;\n",
       "    }\n",
       "\n",
       "    .dataframe tbody tr th {\n",
       "        vertical-align: top;\n",
       "    }\n",
       "\n",
       "    .dataframe thead th {\n",
       "        text-align: right;\n",
       "    }\n",
       "</style>\n",
       "<table border=\"1\" class=\"dataframe\">\n",
       "  <thead>\n",
       "    <tr style=\"text-align: right;\">\n",
       "      <th></th>\n",
       "      <th>actual</th>\n",
       "      <th>model1</th>\n",
       "      <th>model2</th>\n",
       "      <th>model3</th>\n",
       "      <th>model4</th>\n",
       "    </tr>\n",
       "  </thead>\n",
       "  <tbody>\n",
       "    <tr>\n",
       "      <th>0</th>\n",
       "      <td>cat</td>\n",
       "      <td>cat</td>\n",
       "      <td>dog</td>\n",
       "      <td>cat</td>\n",
       "      <td>dog</td>\n",
       "    </tr>\n",
       "    <tr>\n",
       "      <th>1</th>\n",
       "      <td>dog</td>\n",
       "      <td>dog</td>\n",
       "      <td>cat</td>\n",
       "      <td>cat</td>\n",
       "      <td>dog</td>\n",
       "    </tr>\n",
       "    <tr>\n",
       "      <th>2</th>\n",
       "      <td>dog</td>\n",
       "      <td>cat</td>\n",
       "      <td>cat</td>\n",
       "      <td>cat</td>\n",
       "      <td>dog</td>\n",
       "    </tr>\n",
       "    <tr>\n",
       "      <th>3</th>\n",
       "      <td>dog</td>\n",
       "      <td>dog</td>\n",
       "      <td>dog</td>\n",
       "      <td>cat</td>\n",
       "      <td>dog</td>\n",
       "    </tr>\n",
       "    <tr>\n",
       "      <th>4</th>\n",
       "      <td>cat</td>\n",
       "      <td>cat</td>\n",
       "      <td>cat</td>\n",
       "      <td>dog</td>\n",
       "      <td>dog</td>\n",
       "    </tr>\n",
       "    <tr>\n",
       "      <th>...</th>\n",
       "      <td>...</td>\n",
       "      <td>...</td>\n",
       "      <td>...</td>\n",
       "      <td>...</td>\n",
       "      <td>...</td>\n",
       "    </tr>\n",
       "    <tr>\n",
       "      <th>4995</th>\n",
       "      <td>dog</td>\n",
       "      <td>dog</td>\n",
       "      <td>dog</td>\n",
       "      <td>dog</td>\n",
       "      <td>dog</td>\n",
       "    </tr>\n",
       "    <tr>\n",
       "      <th>4996</th>\n",
       "      <td>dog</td>\n",
       "      <td>dog</td>\n",
       "      <td>cat</td>\n",
       "      <td>cat</td>\n",
       "      <td>dog</td>\n",
       "    </tr>\n",
       "    <tr>\n",
       "      <th>4997</th>\n",
       "      <td>dog</td>\n",
       "      <td>cat</td>\n",
       "      <td>cat</td>\n",
       "      <td>dog</td>\n",
       "      <td>dog</td>\n",
       "    </tr>\n",
       "    <tr>\n",
       "      <th>4998</th>\n",
       "      <td>cat</td>\n",
       "      <td>cat</td>\n",
       "      <td>cat</td>\n",
       "      <td>cat</td>\n",
       "      <td>dog</td>\n",
       "    </tr>\n",
       "    <tr>\n",
       "      <th>4999</th>\n",
       "      <td>dog</td>\n",
       "      <td>dog</td>\n",
       "      <td>dog</td>\n",
       "      <td>dog</td>\n",
       "      <td>dog</td>\n",
       "    </tr>\n",
       "  </tbody>\n",
       "</table>\n",
       "<p>5000 rows × 5 columns</p>\n",
       "</div>"
      ],
      "text/plain": [
       "     actual model1 model2 model3 model4\n",
       "0       cat    cat    dog    cat    dog\n",
       "1       dog    dog    cat    cat    dog\n",
       "2       dog    cat    cat    cat    dog\n",
       "3       dog    dog    dog    cat    dog\n",
       "4       cat    cat    cat    dog    dog\n",
       "...     ...    ...    ...    ...    ...\n",
       "4995    dog    dog    dog    dog    dog\n",
       "4996    dog    dog    cat    cat    dog\n",
       "4997    dog    cat    cat    dog    dog\n",
       "4998    cat    cat    cat    cat    dog\n",
       "4999    dog    dog    dog    dog    dog\n",
       "\n",
       "[5000 rows x 5 columns]"
      ]
     },
     "execution_count": 39,
     "metadata": {},
     "output_type": "execute_result"
    }
   ],
   "source": [
    "paw"
   ]
  },
  {
   "cell_type": "code",
   "execution_count": 43,
   "id": "38ed7bee",
   "metadata": {
    "scrolled": true
   },
   "outputs": [
    {
     "data": {
      "text/plain": [
       "actual\n",
       "cat    1746\n",
       "dog    3254\n",
       "Name: actual, dtype: int64"
      ]
     },
     "execution_count": 43,
     "metadata": {},
     "output_type": "execute_result"
    }
   ],
   "source": [
    "pawa = paw.groupby(['actual'])['actual'].count()\n",
    "pawa"
   ]
  },
  {
   "cell_type": "code",
   "execution_count": 67,
   "id": "d605922a",
   "metadata": {},
   "outputs": [
    {
     "data": {
      "text/plain": [
       "65.08"
      ]
     },
     "execution_count": 67,
     "metadata": {},
     "output_type": "execute_result"
    }
   ],
   "source": [
    "(3254/5000)*100"
   ]
  },
  {
   "cell_type": "code",
   "execution_count": 44,
   "id": "9ec5ccc0",
   "metadata": {},
   "outputs": [
    {
     "data": {
      "text/plain": [
       "model1\n",
       "cat    2063\n",
       "dog    2937\n",
       "Name: model1, dtype: int64"
      ]
     },
     "execution_count": 44,
     "metadata": {},
     "output_type": "execute_result"
    }
   ],
   "source": [
    "paw1 = paw.groupby(['model1'])['model1'].count()\n",
    "paw1"
   ]
  },
  {
   "cell_type": "code",
   "execution_count": 69,
   "id": "3014dc47",
   "metadata": {},
   "outputs": [
    {
     "data": {
      "text/plain": [
       "58.74"
      ]
     },
     "execution_count": 69,
     "metadata": {},
     "output_type": "execute_result"
    }
   ],
   "source": [
    "(2937/5000)*100"
   ]
  },
  {
   "cell_type": "code",
   "execution_count": 45,
   "id": "9e711d7a",
   "metadata": {},
   "outputs": [
    {
     "data": {
      "text/plain": [
       "model2\n",
       "cat    3212\n",
       "dog    1788\n",
       "Name: model2, dtype: int64"
      ]
     },
     "execution_count": 45,
     "metadata": {},
     "output_type": "execute_result"
    }
   ],
   "source": [
    "paw2 = paw.groupby(['model2'])['model2'].count()\n",
    "paw2"
   ]
  },
  {
   "cell_type": "code",
   "execution_count": 70,
   "id": "122f0c24",
   "metadata": {},
   "outputs": [
    {
     "data": {
      "text/plain": [
       "35.76"
      ]
     },
     "execution_count": 70,
     "metadata": {},
     "output_type": "execute_result"
    }
   ],
   "source": [
    "(1788/5000)*100"
   ]
  },
  {
   "cell_type": "code",
   "execution_count": 46,
   "id": "64fa4191",
   "metadata": {},
   "outputs": [
    {
     "data": {
      "text/plain": [
       "model3\n",
       "cat    2492\n",
       "dog    2508\n",
       "Name: model3, dtype: int64"
      ]
     },
     "execution_count": 46,
     "metadata": {},
     "output_type": "execute_result"
    }
   ],
   "source": [
    "paw3 = paw.groupby(['model3'])['model3'].count()\n",
    "paw3"
   ]
  },
  {
   "cell_type": "code",
   "execution_count": 72,
   "id": "3df8c5a1",
   "metadata": {},
   "outputs": [
    {
     "data": {
      "text/plain": [
       "50.160000000000004"
      ]
     },
     "execution_count": 72,
     "metadata": {},
     "output_type": "execute_result"
    }
   ],
   "source": [
    "(2508/5000)*100"
   ]
  },
  {
   "cell_type": "code",
   "execution_count": 47,
   "id": "1b4e03e7",
   "metadata": {},
   "outputs": [
    {
     "data": {
      "text/plain": [
       "model4\n",
       "cat     747\n",
       "dog    4253\n",
       "Name: model4, dtype: int64"
      ]
     },
     "execution_count": 47,
     "metadata": {},
     "output_type": "execute_result"
    }
   ],
   "source": [
    "paw4 = paw.groupby(['model4'])['model4'].count()\n",
    "paw4"
   ]
  },
  {
   "cell_type": "code",
   "execution_count": 71,
   "id": "06030819",
   "metadata": {},
   "outputs": [
    {
     "data": {
      "text/plain": [
       "85.06"
      ]
     },
     "execution_count": 71,
     "metadata": {},
     "output_type": "execute_result"
    }
   ],
   "source": [
    "(4253/5000)*100"
   ]
  },
  {
   "cell_type": "code",
   "execution_count": null,
   "id": "79180ca8",
   "metadata": {},
   "outputs": [],
   "source": [
    "#Model 1 and 3 are better in terms of even distribution, 2 has more cats than dogs, and 4 is dispropotionately uneven"
   ]
  },
  {
   "cell_type": "code",
   "execution_count": null,
   "id": "dabfdb2e",
   "metadata": {},
   "outputs": [],
   "source": [
    "#The dog loving team would like model 4, The cat loving team would like model 2"
   ]
  },
  {
   "cell_type": "code",
   "execution_count": null,
   "id": "7c2b57d1",
   "metadata": {},
   "outputs": [],
   "source": []
  }
 ],
 "metadata": {
  "kernelspec": {
   "display_name": "Python 3 (ipykernel)",
   "language": "python",
   "name": "python3"
  },
  "language_info": {
   "codemirror_mode": {
    "name": "ipython",
    "version": 3
   },
   "file_extension": ".py",
   "mimetype": "text/x-python",
   "name": "python",
   "nbconvert_exporter": "python",
   "pygments_lexer": "ipython3",
   "version": "3.9.13"
  }
 },
 "nbformat": 4,
 "nbformat_minor": 5
}
